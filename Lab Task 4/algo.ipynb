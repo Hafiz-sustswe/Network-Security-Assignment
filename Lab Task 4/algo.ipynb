{
 "cells": [
  {
   "cell_type": "code",
   "execution_count": 3,
   "metadata": {},
   "outputs": [
    {
     "name": "stdout",
     "output_type": "stream",
     "text": [
      "Requirement already satisfied: pycryptodome in c:\\users\\nitro gaming\\appdata\\local\\programs\\python\\python312\\lib\\site-packages (3.20.0)\n",
      "Requirement already satisfied: matplotlib in c:\\users\\nitro gaming\\appdata\\local\\programs\\python\\python312\\lib\\site-packages (3.8.4)\n",
      "Requirement already satisfied: contourpy>=1.0.1 in c:\\users\\nitro gaming\\appdata\\local\\programs\\python\\python312\\lib\\site-packages (from matplotlib) (1.2.1)\n",
      "Requirement already satisfied: cycler>=0.10 in c:\\users\\nitro gaming\\appdata\\local\\programs\\python\\python312\\lib\\site-packages (from matplotlib) (0.12.1)\n",
      "Requirement already satisfied: fonttools>=4.22.0 in c:\\users\\nitro gaming\\appdata\\local\\programs\\python\\python312\\lib\\site-packages (from matplotlib) (4.51.0)\n",
      "Requirement already satisfied: kiwisolver>=1.3.1 in c:\\users\\nitro gaming\\appdata\\local\\programs\\python\\python312\\lib\\site-packages (from matplotlib) (1.4.5)\n",
      "Requirement already satisfied: numpy>=1.21 in c:\\users\\nitro gaming\\appdata\\local\\programs\\python\\python312\\lib\\site-packages (from matplotlib) (1.26.4)\n",
      "Requirement already satisfied: packaging>=20.0 in c:\\users\\nitro gaming\\appdata\\roaming\\python\\python312\\site-packages (from matplotlib) (24.0)\n",
      "Requirement already satisfied: pillow>=8 in c:\\users\\nitro gaming\\appdata\\local\\programs\\python\\python312\\lib\\site-packages (from matplotlib) (10.3.0)\n",
      "Requirement already satisfied: pyparsing>=2.3.1 in c:\\users\\nitro gaming\\appdata\\local\\programs\\python\\python312\\lib\\site-packages (from matplotlib) (3.1.2)\n",
      "Requirement already satisfied: python-dateutil>=2.7 in c:\\users\\nitro gaming\\appdata\\roaming\\python\\python312\\site-packages (from matplotlib) (2.9.0.post0)\n",
      "Requirement already satisfied: six>=1.5 in c:\\users\\nitro gaming\\appdata\\roaming\\python\\python312\\site-packages (from python-dateutil>=2.7->matplotlib) (1.16.0)\n"
     ]
    },
    {
     "name": "stderr",
     "output_type": "stream",
     "text": [
      "\n",
      "[notice] A new release of pip is available: 24.0 -> 24.1.2\n",
      "[notice] To update, run: python.exe -m pip install --upgrade pip\n"
     ]
    }
   ],
   "source": [
    "!pip install pycryptodome matplotlib"
   ]
  },
  {
   "cell_type": "code",
   "execution_count": 4,
   "metadata": {},
   "outputs": [],
   "source": [
    "import os\n",
    "import time\n",
    "import hashlib\n",
    "from Crypto.Cipher import AES, PKCS1_OAEP\n",
    "from Crypto.PublicKey import RSA\n",
    "from Crypto.Signature import pkcs1_15\n",
    "from Crypto.Random import get_random_bytes\n",
    "import matplotlib.pyplot as plt"
   ]
  },
  {
   "cell_type": "markdown",
   "metadata": {},
   "source": [
    "# AES Functions"
   ]
  },
  {
   "cell_type": "code",
   "execution_count": 5,
   "metadata": {},
   "outputs": [],
   "source": [
    "def generate_aes_key(key_length):\n",
    "    key = get_random_bytes(key_length // 8)\n",
    "    with open(f'aes_key_{key_length}.key', 'wb') as f:\n",
    "        f.write(key)\n",
    "    return key\n",
    "\n",
    "def aes_encrypt(data, key, mode):\n",
    "    cipher = AES.new(key, mode)\n",
    "    ciphertext = cipher.encrypt(data)\n",
    "    with open('aes_encrypted.bin', 'wb') as f:\n",
    "        f.write(ciphertext)\n",
    "    return ciphertext\n",
    "\n",
    "def aes_decrypt(ciphertext, key, mode):\n",
    "    cipher = AES.new(key, mode)\n",
    "    plaintext = cipher.decrypt(ciphertext)\n",
    "    return plaintext"
   ]
  },
  {
   "cell_type": "markdown",
   "metadata": {},
   "source": [
    "# RSA Functions"
   ]
  },
  {
   "cell_type": "code",
   "execution_count": 6,
   "metadata": {},
   "outputs": [],
   "source": [
    "def generate_rsa_keys(bits):\n",
    "    key = RSA.generate(bits)\n",
    "    private_key = key.export_key()\n",
    "    public_key = key.publickey().export_key()\n",
    "    with open('rsa_private.pem', 'wb') as f:\n",
    "        f.write(private_key)\n",
    "    with open('rsa_public.pem', 'wb') as f:\n",
    "        f.write(public_key)\n",
    "    return private_key, public_key\n",
    "\n",
    "def rsa_encrypt(data, public_key):\n",
    "    cipher = PKCS1_OAEP.new(RSA.import_key(public_key))\n",
    "    ciphertext = cipher.encrypt(data)\n",
    "    with open('rsa_encrypted.bin', 'wb') as f:\n",
    "        f.write(ciphertext)\n",
    "    return ciphertext\n",
    "\n",
    "def rsa_decrypt(ciphertext, private_key):\n",
    "    cipher = PKCS1_OAEP.new(RSA.import_key(private_key))\n",
    "    plaintext = cipher.decrypt(ciphertext)\n",
    "    return plaintext"
   ]
  },
  {
   "cell_type": "markdown",
   "metadata": {},
   "source": [
    "# RSA Signature Functions"
   ]
  },
  {
   "cell_type": "markdown",
   "metadata": {},
   "source": [
    "def rsa_sign(data, private_key):\n",
    "    key = RSA.import_key(private_key)\n",
    "    h = hashlib.sha256(data).digest()\n",
    "    signature = pkcs1_15.new(key).sign(h)\n",
    "    with open('rsa_signature.sig', 'wb') as f:\n",
    "        f.write(signature)\n",
    "    return signature\n",
    "\n",
    "def rsa_verify(data, signature, public_key):\n",
    "    key = RSA.import_key(public_key)\n",
    "    h = hashlib.sha256(data).digest()\n",
    "    try:\n",
    "        pkcs1_15.new(key).verify(h, signature)\n",
    "        return True\n",
    "    except (ValueError, TypeError):\n",
    "        return False"
   ]
  },
  {
   "cell_type": "markdown",
   "metadata": {},
   "source": [
    "# SHA-256 Hashing Function"
   ]
  },
  {
   "cell_type": "code",
   "execution_count": 7,
   "metadata": {},
   "outputs": [],
   "source": [
    "def sha256_hash(data):\n",
    "    return hashlib.sha256(data).hexdigest()"
   ]
  },
  {
   "cell_type": "markdown",
   "metadata": {},
   "source": [
    "# Function to measure AES encryption time"
   ]
  },
  {
   "cell_type": "code",
   "execution_count": 8,
   "metadata": {},
   "outputs": [],
   "source": [
    "def measure_aes_time(key_length, data, mode):\n",
    "    key = get_random_bytes(key_length // 8)\n",
    "    cipher = AES.new(key, mode)\n",
    "    start_time = time.time()\n",
    "    ciphertext = cipher.encrypt(data)\n",
    "    end_time = time.time()\n",
    "    return end_time - start_time"
   ]
  },
  {
   "cell_type": "markdown",
   "metadata": {},
   "source": [
    "# Function to measure RSA encryption time"
   ]
  },
  {
   "cell_type": "code",
   "execution_count": 9,
   "metadata": {},
   "outputs": [],
   "source": [
    "def measure_rsa_time(bits, data):\n",
    "    key = RSA.generate(bits)\n",
    "    public_key = key.publickey()\n",
    "    cipher = PKCS1_OAEP.new(public_key)\n",
    "    start_time = time.time()\n",
    "    ciphertext = cipher.encrypt(data)\n",
    "    end_time = time.time()\n",
    "    return end_time - start_time"
   ]
  },
  {
   "cell_type": "markdown",
   "metadata": {},
   "source": [
    "# Main Program"
   ]
  },
  {
   "cell_type": "code",
   "execution_count": 18,
   "metadata": {},
   "outputs": [
    {
     "name": "stdout",
     "output_type": "stream",
     "text": [
      "Choose a functionality:\n",
      "1. AES Encryption/Decryption\n",
      "2. RSA Encryption/Decryption\n",
      "3. RSA Signature\n",
      "4. SHA-256 Hashing\n",
      "5. Exit\n",
      "SHA-256 Hash: ba7816bf8f01cfea414140de5dae2223b00361a396177a9cb410ff61f20015ad\n",
      "Execution time: 0.0\n",
      "Choose a functionality:\n",
      "1. AES Encryption/Decryption\n",
      "2. RSA Encryption/Decryption\n",
      "3. RSA Signature\n",
      "4. SHA-256 Hashing\n",
      "5. Exit\n",
      "SHA-256 Hash: 1571749614cbcf4f0a869838ced1c7c37d33a743a702a1abcb7696359bcf4a27\n",
      "Execution time: 0.0\n",
      "Choose a functionality:\n",
      "1. AES Encryption/Decryption\n",
      "2. RSA Encryption/Decryption\n",
      "3. RSA Signature\n",
      "4. SHA-256 Hashing\n",
      "5. Exit\n"
     ]
    },
    {
     "ename": "ValueError",
     "evalue": "invalid literal for int() with base 10: ''",
     "output_type": "error",
     "traceback": [
      "\u001b[1;31m---------------------------------------------------------------------------\u001b[0m",
      "\u001b[1;31mValueError\u001b[0m                                Traceback (most recent call last)",
      "Cell \u001b[1;32mIn[18], line 59\u001b[0m\n\u001b[0;32m     56\u001b[0m             \u001b[38;5;28mprint\u001b[39m(\u001b[38;5;124m\"\u001b[39m\u001b[38;5;124mInvalid choice, please try again.\u001b[39m\u001b[38;5;124m\"\u001b[39m)\n\u001b[0;32m     58\u001b[0m \u001b[38;5;28;01mif\u001b[39;00m \u001b[38;5;18m__name__\u001b[39m \u001b[38;5;241m==\u001b[39m \u001b[38;5;124m\"\u001b[39m\u001b[38;5;124m__main__\u001b[39m\u001b[38;5;124m\"\u001b[39m:\n\u001b[1;32m---> 59\u001b[0m     \u001b[43mmain\u001b[49m\u001b[43m(\u001b[49m\u001b[43m)\u001b[49m\n",
      "Cell \u001b[1;32mIn[18], line 9\u001b[0m, in \u001b[0;36mmain\u001b[1;34m()\u001b[0m\n\u001b[0;32m      7\u001b[0m \u001b[38;5;28mprint\u001b[39m(\u001b[38;5;124m\"\u001b[39m\u001b[38;5;124m4. SHA-256 Hashing\u001b[39m\u001b[38;5;124m\"\u001b[39m)\n\u001b[0;32m      8\u001b[0m \u001b[38;5;28mprint\u001b[39m(\u001b[38;5;124m\"\u001b[39m\u001b[38;5;124m5. Exit\u001b[39m\u001b[38;5;124m\"\u001b[39m)\n\u001b[1;32m----> 9\u001b[0m choice \u001b[38;5;241m=\u001b[39m \u001b[38;5;28;43mint\u001b[39;49m\u001b[43m(\u001b[49m\u001b[38;5;28;43minput\u001b[39;49m\u001b[43m(\u001b[49m\u001b[43m)\u001b[49m\u001b[43m)\u001b[49m\n\u001b[0;32m     11\u001b[0m \u001b[38;5;28;01mif\u001b[39;00m choice \u001b[38;5;241m==\u001b[39m \u001b[38;5;241m1\u001b[39m:\n\u001b[0;32m     12\u001b[0m     key_length \u001b[38;5;241m=\u001b[39m \u001b[38;5;28mint\u001b[39m(\u001b[38;5;28minput\u001b[39m(\u001b[38;5;124m\"\u001b[39m\u001b[38;5;124mEnter AES key length (128 or 256): \u001b[39m\u001b[38;5;124m\"\u001b[39m))\n",
      "\u001b[1;31mValueError\u001b[0m: invalid literal for int() with base 10: ''"
     ]
    }
   ],
   "source": [
    "def main():\n",
    "    while True:\n",
    "        print(\"Choose a functionality:\")\n",
    "        print(\"1. AES Encryption/Decryption\")\n",
    "        print(\"2. RSA Encryption/Decryption\")\n",
    "        print(\"3. RSA Signature\")\n",
    "        print(\"4. SHA-256 Hashing\")\n",
    "        print(\"5. Exit\")\n",
    "        choice = int(input())\n",
    "        \n",
    "        if choice == 1:\n",
    "            key_length = int(input(\"Enter AES key length (128 or 256): \"))\n",
    "            mode = AES.MODE_ECB if input(\"Enter mode (ECB/CFB): \") == 'ECB' else AES.MODE_CFB\n",
    "            key = generate_aes_key(key_length)\n",
    "            data = input(\"Enter data to encrypt (must be multiple of 16 bytes): \").encode()\n",
    "            start_time = time.time()\n",
    "            ciphertext = aes_encrypt(data, key, mode)\n",
    "            print(\"Ciphertext:\", ciphertext)\n",
    "            decrypted_text = aes_decrypt(ciphertext, key, mode)\n",
    "            print(\"Decrypted text:\", decrypted_text)\n",
    "            print(\"Execution time:\", time.time() - start_time)\n",
    "        \n",
    "        elif choice == 2:\n",
    "            bits = int(input(\"Enter RSA key size (e.g., 1024, 2048): \"))\n",
    "            private_key, public_key = generate_rsa_keys(bits)\n",
    "            data = input(\"Enter data to encrypt: \").encode()\n",
    "            start_time = time.time()\n",
    "            ciphertext = rsa_encrypt(data, public_key)\n",
    "            print(\"Ciphertext:\", ciphertext)\n",
    "            decrypted_text = rsa_decrypt(ciphertext, private_key)\n",
    "            print(\"Decrypted text:\", decrypted_text)\n",
    "            print(\"Execution time:\", time.time() - start_time)\n",
    "        \n",
    "        elif choice == 3:\n",
    "            bits = int(input(\"Enter RSA key size for signature (e.g., 1024, 2048): \"))\n",
    "            private_key, public_key = generate_rsa_keys(bits)\n",
    "            data = input(\"Enter data to sign: \").encode()\n",
    "            start_time = time.time()\n",
    "            signature = rsa_sign(data, private_key)\n",
    "            print(\"Signature:\", signature)\n",
    "            verification = rsa_verify(data, signature, public_key)\n",
    "            print(\"Verification:\", \"Success\" if verification else \"Failure\")\n",
    "            print(\"Execution time:\", time.time() - start_time)\n",
    "        \n",
    "        elif choice == 4:\n",
    "            data = input(\"Enter data to hash: \").encode()\n",
    "            start_time = time.time()\n",
    "            hash_value = sha256_hash(data)\n",
    "            print(\"SHA-256 Hash:\", hash_value)\n",
    "            print(\"Execution time:\", time.time() - start_time)\n",
    "        \n",
    "        elif choice == 5:\n",
    "            break\n",
    "        \n",
    "        else:\n",
    "            print(\"Invalid choice, please try again.\")\n",
    "\n",
    "if __name__ == \"__main__\":\n",
    "    main()"
   ]
  },
  {
   "cell_type": "markdown",
   "metadata": {},
   "source": [
    "# Measure encryption times for visualization"
   ]
  },
  {
   "cell_type": "code",
   "execution_count": 12,
   "metadata": {},
   "outputs": [],
   "source": [
    "data = get_random_bytes(128)  # 128 bytes of data for AES\n",
    "rsa_data = get_random_bytes(64)  # 64 bytes of data for RSA"
   ]
  },
  {
   "cell_type": "markdown",
   "metadata": {},
   "source": [
    "# Measure AES encryption times for different key lengths and modes"
   ]
  },
  {
   "cell_type": "code",
   "execution_count": 13,
   "metadata": {},
   "outputs": [],
   "source": [
    "aes_times = {'ECB': [], 'CFB': []}\n",
    "key_lengths = [128, 256]\n",
    "for key_length in key_lengths:\n",
    "    aes_times['ECB'].append(measure_aes_time(key_length, data, AES.MODE_ECB))\n",
    "    aes_times['CFB'].append(measure_aes_time(key_length, data, AES.MODE_CFB))"
   ]
  },
  {
   "cell_type": "markdown",
   "metadata": {},
   "source": [
    "# Measure RSA encryption times for different key sizes"
   ]
  },
  {
   "cell_type": "code",
   "execution_count": 14,
   "metadata": {},
   "outputs": [],
   "source": [
    "rsa_key_sizes = [1024, 2048, 4096]\n",
    "rsa_times = [measure_rsa_time(bits, rsa_data) for bits in rsa_key_sizes]"
   ]
  },
  {
   "cell_type": "markdown",
   "metadata": {},
   "source": [
    "# Visualization"
   ]
  },
  {
   "cell_type": "code",
   "execution_count": 15,
   "metadata": {},
   "outputs": [
    {
     "data": {
      "text/plain": [
       "<matplotlib.legend.Legend at 0x21b3567d130>"
      ]
     },
     "execution_count": 15,
     "metadata": {},
     "output_type": "execute_result"
    },
    {
     "data": {
      "image/png": "[encoded data removed]",
      "text/plain": [
       "<Figure size 1200x600 with 1 Axes>"
      ]
     },
     "metadata": {},
     "output_type": "display_data"
    }
   ],
   "source": [
    "plt.figure(figsize=(12, 6))\n",
    "plt.subplot(1, 2, 1)\n",
    "plt.plot(key_lengths, aes_times['ECB'], label='AES-ECB')\n",
    "plt.plot(key_lengths, aes_times['CFB'], label='AES-CFB')\n",
    "plt.xlabel('Key Length (bits)')\n",
    "plt.ylabel('Encryption Time (seconds)')\n",
    "plt.title('AES Encryption Time')\n",
    "plt.legend()"
   ]
  },
  {
   "cell_type": "markdown",
   "metadata": {},
   "source": [
    "# Plot RSA encryption times"
   ]
  },
  {
   "cell_type": "code",
   "execution_count": 16,
   "metadata": {},
   "outputs": [
    {
     "data": {
      "text/plain": [
       "<matplotlib.legend.Legend at 0x21b3598f170>"
      ]
     },
     "execution_count": 16,
     "metadata": {},
     "output_type": "execute_result"
    },
    {
     "data": {
      "image/png": "[encoded data removed]",
      "text/plain": [
       "<Figure size 640x480 with 1 Axes>"
      ]
     },
     "metadata": {},
     "output_type": "display_data"
    }
   ],
   "source": [
    "plt.subplot(1, 2, 2)\n",
    "plt.plot(rsa_key_sizes, rsa_times, label='RSA')\n",
    "plt.xlabel('Key Size (bits)')\n",
    "plt.ylabel('Encryption Time (seconds)')\n",
    "plt.title('RSA Encryption Time')\n",
    "plt.legend()"
   ]
  },
  {
   "cell_type": "markdown",
   "metadata": {},
   "source": [
    "# Show plots"
   ]
  },
  {
   "cell_type": "code",
   "execution_count": 17,
   "metadata": {},
   "outputs": [
    {
     "data": {
      "text/plain": [
       "<Figure size 640x480 with 0 Axes>"
      ]
     },
     "metadata": {},
     "output_type": "display_data"
    }
   ],
   "source": [
    "plt.tight_layout()\n",
    "plt.show()"
   ]
  }
 ],
 "metadata": {
  "kernelspec": {
   "display_name": "Python 3",
   "language": "python",
   "name": "python3"
  },
  "language_info": {
   "codemirror_mode": {
    "name": "ipython",
    "version": 3
   },
   "file_extension": ".py",
   "mimetype": "text/x-python",
   "name": "python",
   "nbconvert_exporter": "python",
   "pygments_lexer": "ipython3",
   "version": "3.12.3"
  }
 },
 "nbformat": 4,
 "nbformat_minor": 2
}
